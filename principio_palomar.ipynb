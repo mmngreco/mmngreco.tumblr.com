{
 "cells": [
  {
   "cell_type": "code",
   "execution_count": 1,
   "metadata": {
    "collapsed": false
   },
   "outputs": [],
   "source": [
    "import scipy.stats as st\n",
    "import numpy as np\n",
    "import scipy.stats as st\n",
    "import matplotlib.pyplot as plt\n",
    "import seaborn as sns\n",
    "from IPython.display import HTML, Markdown"
   ]
  },
  {
   "cell_type": "code",
   "execution_count": 2,
   "metadata": {
    "collapsed": true
   },
   "outputs": [],
   "source": [
    "%matplotlib inline"
   ]
  },
  {
   "cell_type": "markdown",
   "metadata": {},
   "source": [
    "# PRINCIPIO DEL PALOMAR Y PYTHON\n",
    "\n",
    "Hace casi un mes ya, se realizó la Noche europea de los investigadores, en que se organizaron actividades diversas y muy entretenidas, yo las seguí vía twitter. Os dejo el problema que han propuesto y que más me ha gustado."
   ]
  },
  {
   "cell_type": "code",
   "execution_count": 3,
   "metadata": {
    "code_folding": [
     0
    ],
    "collapsed": false
   },
   "outputs": [
    {
     "data": {
      "text/html": [
       "\n",
       "\n",
       "<!-- Place this tag in your head or just before your close body tag. -->\n",
       "<script type=\"text/javascript\" src=\"https://apis.google.com/js/plusone.js\"></script>\n",
       "\n",
       "<!-- Place this tag where you want the widget to render. -->\n",
       "<div class=\"g-post\" data-href=\"https://plus.google.com/+AlbertoMarquez/posts/UZCvUpvwpxV\"></div>\n",
       "\n",
       "<blockquote class=\"twitter-tweet\" lang=\"es\"><p lang=\"es\" dir=\"ltr\">Ppio del Palomar <a href=\"https://twitter.com/hashtag/MatesEn140?src=hash\">#MatesEn140</a> <a href=\"https://twitter.com/hashtag/ERN15?src=hash\">#ERN15</a> <a href=\"http://t.co/iZvEn3Tvc5\">pic.twitter.com/iZvEn3Tvc5</a></p>&mdash; Joaquin García Mollá (@imatematicas) <a href=\"https://twitter.com/imatematicas/status/647459838067376129\">septiembre 25, 2015</a></blockquote> <script async src=\"//platform.twitter.com/widgets.js\" charset=\"utf-8\"></script>"
      ],
      "text/plain": [
       "<IPython.core.display.HTML object>"
      ]
     },
     "metadata": {},
     "output_type": "display_data"
    }
   ],
   "source": [
    "%%HTML\n",
    "\n",
    "\n",
    "<!-- Place this tag in your head or just before your close body tag. -->\n",
    "<script type=\"text/javascript\" src=\"https://apis.google.com/js/plusone.js\"></script>\n",
    "\n",
    "<!-- Place this tag where you want the widget to render. -->\n",
    "<div class=\"g-post\" data-href=\"https://plus.google.com/+AlbertoMarquez/posts/UZCvUpvwpxV\"></div>\n",
    "\n",
    "<blockquote class=\"twitter-tweet\" lang=\"es\"><p lang=\"es\" dir=\"ltr\">Ppio del Palomar <a href=\"https://twitter.com/hashtag/MatesEn140?src=hash\">#MatesEn140</a> <a href=\"https://twitter.com/hashtag/ERN15?src=hash\">#ERN15</a> <a href=\"http://t.co/iZvEn3Tvc5\">pic.twitter.com/iZvEn3Tvc5</a></p>&mdash; Joaquin García Mollá (@imatematicas) <a href=\"https://twitter.com/imatematicas/status/647459838067376129\">septiembre 25, 2015</a></blockquote> <script async src=\"//platform.twitter.com/widgets.js\" charset=\"utf-8\"></script>\n"
   ]
  },
  {
   "cell_type": "markdown",
   "metadata": {},
   "source": [
    "Es decir, el problema es:\n",
    "\n",
    "> Si la media de pelos en una persona es de 100 000 pelos, probar que en Sevilla hay dos personas con el mismo número de pelos.\n",
    "\n",
    "Para resolver este problema aplicamos el [principio del palomar ](https://es.wikipedia.org/w/index.php?title=Principio_del_palomar&oldid=77570637), aquí el video de un gran canal de mates con el que me topé buscando en youtube, muy bien explicado."
   ]
  },
  {
   "cell_type": "code",
   "execution_count": 4,
   "metadata": {
    "collapsed": false
   },
   "outputs": [
    {
     "data": {
      "text/html": [
       "<iframe width=\"560\" height=\"315\" src=\"https://www.youtube.com/embed/77VWa8PjVnA\" frameborder=\"0\" allowfullscreen></iframe>"
      ],
      "text/plain": [
       "<IPython.core.display.HTML object>"
      ]
     },
     "metadata": {},
     "output_type": "display_data"
    }
   ],
   "source": [
    "%%HTML\n",
    "<iframe width=\"560\" height=\"315\" src=\"https://www.youtube.com/embed/77VWa8PjVnA\" frameborder=\"0\" allowfullscreen></iframe>"
   ]
  },
  {
   "cell_type": "markdown",
   "metadata": {},
   "source": [
    "# CÓMO RESOLVER EL PROBLEMA EN PYTHON\n",
    "\n",
    "¿Cómo se me ocurrió resolver el problema en Pyhton? Pues la primera idea era conseguir datos de la [población de sevilla](http://www.juntadeandalucia.es/institutodeestadisticaycartografia/sima/htm/sm41091.htm), lo siguiente era a todos los sevillanos en fila (en python crear una lista de tamaño igual a la población) y \"ponerlos\" en los huecos tal y como dice el principio pero mientras lo hacía, caí en la cuenta de que claro, no todos los números de pelos por persona tienen la misma probabilidad de salir, esto es, una persona con 0 pelos es muy difícil de encontrar y lo mismo una persona con >200 mil pelos, para aplicar esto a nuestro problema tenemos que echar mano del [Teorema Central del Límite](https://es.wikipedia.org/wiki/Teorema_del_l%C3%ADmite_central), que nos permite encontrar una distribución apropiada para nuestro problema, dado que tenemos una población grande (mayor de 30) el TCL nos dice básicamente que cuando tenemos muchas observaciones podemos suponer que sigue una __distribución normal__.\n",
    "\n",
    "Ya sabemos cómo generar números que cumplan la premisa anterior. Con esto en mente, en vez de llenar huecos sin más, que es lo que matemáticamente se haría, tenemos información adicional y es que hay huecos que son más probables que otros. \n",
    "\n",
    "Eso se traduce en generar valores aleatorios entre 0 y ~200 000 de forma que, por supuesto, la media sea 100 000 pelos y que se distribuyan según una normal. Para generar estos valores necesitamos la __media__, que es conocida (100 000 pelos) y la __varianza__ que es desconocída.\n",
    "\n",
    "¿Cómo podemos conocer la varianza? \n",
    "Pues por estadística sabemos que el intervalo de confianza de la media:\n",
    "\n",
    "$$IC(\\mu) = \\bar{x} \\pm Z_{\\alpha/2}\\frac{S_1}{\\sqrt{N}}$$\n",
    "\n",
    "De esta ecuación __conocemos__:\n",
    "\n",
    "- N = Población de Sevilla\n",
    "- IC_inferior = 0 (El superior no esta claro, ~200 000)\n",
    "- $\\bar{x} = 100000$\n",
    "- $\\alpha=0.0000001 $ (Queremos la máxima precisión sin causar problemas de divisón por 0)\n",
    "- $Z_{\\alpha/2}$\n",
    "- $\\sqrt{N}$\n",
    "\n",
    "__Desconocemos__ por tanto:\n",
    "\n",
    "- $S_1$ Que es el estimador insesgado de la varianza (Cuasidesviación típica).\n",
    "\n",
    "Despejando para el caso en el que IC = 0, tenemos que:\n",
    "\n",
    "$$S_1 = \\frac{\\bar{x}}{\\frac{Z_{\\alpha/2}}{\\sqrt{N}}} $$\n",
    "\n",
    "## CALCULAMOS"
   ]
  },
  {
   "cell_type": "code",
   "execution_count": 10,
   "metadata": {
    "collapsed": false
   },
   "outputs": [
    {
     "data": {
      "text/markdown": [
       "$Z_{\\alpha/2} = -5.32672388638$\n",
       "\n",
       "$S_1 = 15669503.6302$"
      ],
      "text/plain": [
       "<IPython.core.display.Markdown object>"
      ]
     },
     "execution_count": 10,
     "metadata": {},
     "output_type": "execute_result"
    }
   ],
   "source": [
    "# datos\n",
    "pob_sevilla = 696676\n",
    "media_pelos = 100000\n",
    "\n",
    "# conocido\n",
    "n = pob_sevilla\n",
    "ic_inf = 0\n",
    "xbarra = media_pelos\n",
    "alfa = 0.0000001\n",
    "z = st.norm.ppf(alfa / 2)\n",
    "\n",
    "# desconocido\n",
    "s1 = -xbarra / (z / np.sqrt(n))\n",
    "\n",
    "s = '''$Z_{\\\\alpha/2} = %s$\n",
    "\n",
    "$S_1 = %s$'''\n",
    "Markdown(s % (z, s1))\n"
   ]
  },
  {
   "cell_type": "markdown",
   "metadata": {},
   "source": [
    "Lo que hemos hecho es aprovhechar la información que tenemos, el intervalo de confianza inferior lo conocemos, queremos que sea 0 y sustituyendo $\\alpha = 0.0000001$, el resto de datos son conocidos:\n",
    "\n",
    "$0 = 100000 - 3.29053 \\frac{S_1}{834.6712}$\n",
    "\n",
    "$\\frac{100 000 · 834.6712}{3.29053} = S_1$\n",
    "\n",
    "$S_1 = 25365883.971$\n",
    "\n",
    "Ahora solo nos queda simular las distribución normal, con los datos obtenidos y pasare el error estándar como argumento:\n",
    "\n",
    "$EE = \\frac{S_1}{\\sqrt{N}}$"
   ]
  },
  {
   "cell_type": "code",
   "execution_count": 11,
   "metadata": {
    "collapsed": false
   },
   "outputs": [
    {
     "name": "stdout",
     "output_type": "stream",
     "text": [
      "18773.2651692\n"
     ]
    }
   ],
   "source": [
    "ee = (media_pelos / (st.norm.ppf(1-alfa/2)/np.sqrt(pob_sevilla))) / np.sqrt(pob_sevilla)\n",
    "print(ee)"
   ]
  },
  {
   "cell_type": "markdown",
   "metadata": {},
   "source": [
    "## Nos queda por tanto hacer la simulación, con todo lo que sabemos:"
   ]
  },
  {
   "cell_type": "code",
   "execution_count": 12,
   "metadata": {
    "collapsed": false
   },
   "outputs": [
    {
     "name": "stdout",
     "output_type": "stream",
     "text": [
      "NºPelos\t\tFrecuencia\n",
      "---–---\t\t----------\n",
      "51562.0 = \t .\n",
      "52605.0 = \t .\n",
      "55157.0 = \t .\n",
      "59117.0 = \t ...\n",
      "62006.0 = \t ...\n",
      "64014.0 = \t ..\n",
      "65297.0 = \t .\n",
      "66598.0 = \t .\n",
      "67404.0 = \t ..\n",
      "72798.0 = \t ......\n",
      "73206.0 = \t ........\n",
      "73655.0 = \t ....\n",
      "77278.0 = \t ......\n",
      "82631.0 = \t ..............\n",
      "82715.0 = \t ..........\n",
      "82846.0 = \t ............\n",
      "83130.0 = \t ............\n",
      "83713.0 = \t ........\n",
      "85896.0 = \t ...............\n",
      "86789.0 = \t .........\n",
      "90608.0 = \t ..............\n",
      "91794.0 = \t ...............\n",
      "94258.0 = \t ............\n",
      "94717.0 = \t ...............\n",
      "95080.0 = \t ....................\n",
      "95774.0 = \t ...................\n",
      "96240.0 = \t ...........\n",
      "97236.0 = \t .........\n",
      "103087.0 = \t ................\n",
      "104285.0 = \t ..........\n",
      "106004.0 = \t ........\n",
      "106303.0 = \t ................\n",
      "106613.0 = \t ...........\n",
      "106880.0 = \t ..................\n",
      "107134.0 = \t ........\n",
      "107264.0 = \t .............\n",
      "112449.0 = \t ...........\n",
      "118900.0 = \t ........\n",
      "119284.0 = \t ...........\n",
      "120136.0 = \t ..........\n",
      "124513.0 = \t ..........\n",
      "126461.0 = \t ..\n",
      "128109.0 = \t .......\n",
      "128906.0 = \t .......\n",
      "130144.0 = \t .\n",
      "131321.0 = \t ...\n",
      "134037.0 = \t ....\n",
      "135451.0 = \t ...\n",
      "138977.0 = \t .\n",
      "151530.0 = \t .\n"
     ]
    }
   ],
   "source": [
    "# variables aleatoria normal TCL\n",
    "dist_pelos_persona = np.random.normal(loc=media_pelos, \n",
    "                                      scale=ee, \n",
    "                                      size=pob_sevilla)\n",
    "\n",
    "\n",
    "dist_pelos_persona = np.round(dist_pelos_persona, 0)          # convertir a datos discretos\n",
    "dp_unique = np.unique(dist_pelos_persona)                     # creamos etiquetas de cada valor\n",
    "sample = np.random.choice(dp_unique, size=50, replace=False)  # tomamos una muestra\n",
    "sample = np.sort(sample)                                      # ordenamos la muestra\n",
    "\n",
    "# print muestra\n",
    "print('{}\\t\\t{}\\n---–---\\t\\t----------'.format('NºPelos', 'Frecuencia'))\n",
    "for e in sample:\n",
    "    n = len(dist_pelos_persona[dist_pelos_persona == e])\n",
    "    print('{} = \\t'.format(e),'.' * n)"
   ]
  },
  {
   "cell_type": "markdown",
   "metadata": {},
   "source": [
    "A modo de comprobación vamos a ver cual es el valor más pequeño"
   ]
  },
  {
   "cell_type": "code",
   "execution_count": 13,
   "metadata": {
    "collapsed": false
   },
   "outputs": [
    {
     "name": "stdout",
     "output_type": "stream",
     "text": [
      "6095.0\n"
     ]
    }
   ],
   "source": [
    "print(min(dist_pelos_persona))"
   ]
  },
  {
   "cell_type": "markdown",
   "metadata": {},
   "source": [
    "nos puede dar negativo o positivo, pero ha de ser muy pequeño y estadísticamente es 0 (final de la cola).\n",
    "\n",
    "Bueno, ya podemos tener una representación gráfica \"rigurosa\", al menos eso he intentado, que demuestra que hay muchas personsas con el mismo número de pelos, cada \".\" es una persona con ese número de pelos.\n",
    "\n",
    "## Un gráfico más atractivo"
   ]
  },
  {
   "cell_type": "code",
   "execution_count": 15,
   "metadata": {
    "code_folding": [
     10
    ],
    "collapsed": false
   },
   "outputs": [
    {
     "data": {
      "text/plain": [
       "<matplotlib.text.Text at 0x115a987b8>"
      ]
     },
     "execution_count": 15,
     "metadata": {},
     "output_type": "execute_result"
    },
    {
     "name": "stderr",
     "output_type": "stream",
     "text": [
      "/Users/mmngreco/Virtualenvs/ipynb/lib/python3.5/site-packages/matplotlib/collections.py:590: FutureWarning: elementwise comparison failed; returning scalar instead, but in the future will perform elementwise comparison\n",
      "  if self._edgecolors == str('face'):\n"
     ]
    },
    {
     "data": {
      "image/png": "[encoded data removed]",
      "text/plain": [
       "<matplotlib.figure.Figure at 0x115671d68>"
      ]
     },
     "metadata": {},
     "output_type": "display_data"
    }
   ],
   "source": [
    "# Grafico\n",
    "plt.figure(figsize=(15,10))\n",
    "\n",
    "# grafico superior\n",
    "ax1 = plt.subplot(2,1,1)\n",
    "ax1.hist(dist_pelos_persona, bins=100)\n",
    "\n",
    "# gráfico inferior \n",
    "ax2 = plt.subplot(2,1,2, sharex=ax1)\n",
    "dp_unique = np.unique(dist_pelos_persona)\n",
    "\n",
    "for dp in sample:\n",
    "    y = np.arange(1, len(dist_pelos_persona[dist_pelos_persona == dp]) + 1)\n",
    "    ax2.scatter(x=np.repeat(dp, len(y)), y=y, marker='o', linewidth=0)\n",
    "\n",
    "plt.xlabel('Nº de Pelos')\n",
    "plt.ylabel('Personas')"
   ]
  },
  {
   "cell_type": "markdown",
   "metadata": {},
   "source": [
    "El primer gráfico es el histograma de la distribución poblacional, el segundo es la muestra tomada con la que mostrado los para cada número de pelos (huecos) las personas (palomas) que hay. \n",
    "\n",
    "Espero que os haya gustado, cualquier comentario o crítica es bien recibido. \n",
    "\n",
    ":-)"
   ]
  },
  {
   "cell_type": "code",
   "execution_count": null,
   "metadata": {
    "collapsed": true
   },
   "outputs": [],
   "source": []
  }
 ],
 "metadata": {
  "kernelspec": {
   "display_name": "Python 3",
   "language": "python",
   "name": "python3"
  },
  "language_info": {
   "codemirror_mode": {
    "name": "ipython",
    "version": 3
   },
   "file_extension": ".py",
   "mimetype": "text/x-python",
   "name": "python",
   "nbconvert_exporter": "python",
   "pygments_lexer": "ipython3",
   "version": "3.5.0"
  },
  "latex_envs": {
   "bibliofile": "biblio.bib",
   "cite_by": "apalike",
   "current_citInitial": 1,
   "eqLabelWithNumbers": true,
   "eqNumInitial": 0
  }
 },
 "nbformat": 4,
 "nbformat_minor": 0
}
