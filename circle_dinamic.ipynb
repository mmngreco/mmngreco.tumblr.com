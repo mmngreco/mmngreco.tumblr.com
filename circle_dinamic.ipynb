{
 "cells": [
  {
   "cell_type": "code",
   "execution_count": null,
   "metadata": {
    "collapsed": true
   },
   "outputs": [],
   "source": [
    "from bokeh.plotting import output_notebook, show, figure\n",
    "from bokeh.io import hplot"
   ]
  },
  {
   "cell_type": "markdown",
   "metadata": {},
   "source": [
    "One circle on a square"
   ]
  },
  {
   "cell_type": "code",
   "execution_count": null,
   "metadata": {
    "collapsed": false
   },
   "outputs": [],
   "source": [
    "p = figure(width=250, plot_height=250, tools=\"\")\n",
    "p.rect(0,0,2,2)\n",
    "p.circle(0,0,radius=1, color='white')"
   ]
  },
  {
   "cell_type": "code",
   "execution_count": null,
   "metadata": {
    "collapsed": false
   },
   "outputs": [],
   "source": [
    "output_notebook(hide_banner=True)\n",
    "show(p)"
   ]
  },
  {
   "cell_type": "markdown",
   "metadata": {},
   "source": [
    "Four circles in a square"
   ]
  },
  {
   "cell_type": "code",
   "execution_count": null,
   "metadata": {
    "collapsed": false
   },
   "outputs": [],
   "source": [
    "p2 = figure(width=250, plot_height=250, tools=\"\")\n",
    "p2.rect(0,0,2,2)\n",
    "p2.circle(x=[-0.5, 0.5, -0.5, 0.5], y=[0.5, 0.5, -0.5, -0.5],radius=0.5, color='white')"
   ]
  },
  {
   "cell_type": "code",
   "execution_count": null,
   "metadata": {
    "collapsed": false
   },
   "outputs": [],
   "source": [
    "output_notebook(hide_banner=True)\n",
    "show(p2)"
   ]
  },
  {
   "cell_type": "code",
   "execution_count": null,
   "metadata": {
    "collapsed": false
   },
   "outputs": [],
   "source": [
    "p3 = figure(width=250, plot_height=250, tools=\"\")\n",
    "p3.rect(0,0,2,2)\n",
    "p3.circle(x=[-0.75, -0.25, 0.25, 0.75], y=[0.75]*4,radius=0.25, color='white')\n",
    "p3.circle(x=[-0.75, -0.25, 0.25, 0.75], y=[0.25]*4,radius=0.25, color='white')\n",
    "p3.circle(x=[-0.75, -0.25, 0.25, 0.75], y=[-0.25]*4,radius=0.25, color='white')\n",
    "p3.circle(x=[-0.75, -0.25, 0.25, 0.75], y=[-0.75]*4,radius=0.25, color='white')"
   ]
  },
  {
   "cell_type": "code",
   "execution_count": null,
   "metadata": {
    "collapsed": false
   },
   "outputs": [],
   "source": [
    "output_notebook(hide_banner=True)\n",
    "show(p3)"
   ]
  },
  {
   "cell_type": "code",
   "execution_count": null,
   "metadata": {
    "collapsed": false
   },
   "outputs": [],
   "source": [
    "from bokeh.plotting import output_notebook, show, figure\n",
    "\n",
    "def n_circles_in_a_square(width=2, number=2):\n",
    "    p = figure()\n",
    "    p.rect(1,1,width,width)\n",
    "    \n",
    "    radius = (width/number)/2\n",
    "    next_point = radius\n",
    "    points = [radius]\n",
    "    \n",
    "    while next_point+(radius*2) < width:\n",
    "        next_point += (radius*2)\n",
    "        points.append(next_point)\n",
    "\n",
    "    for a in points:\n",
    "        p.circle(x=points, y=[a]*number, radius=radius, color='white')\n",
    "    \n",
    "    return p"
   ]
  },
  {
   "cell_type": "code",
   "execution_count": null,
   "metadata": {
    "collapsed": false
   },
   "outputs": [],
   "source": [
    "from ipywidgets import interact, widgets\n",
    "\n",
    "@interact(x=widgets.IntSlider(min=1,max=30,step=1,value=10))\n",
    "def plot(x):\n",
    "    show(n_circles_in_a_square(number=x))\n",
    "\n",
    "output_notebook()"
   ]
  },
  {
   "cell_type": "code",
   "execution_count": null,
   "metadata": {
    "collapsed": true
   },
   "outputs": [],
   "source": []
  }
 ],
 "metadata": {
  "kernelspec": {
   "display_name": "Python 3",
   "language": "python",
   "name": "python3"
  },
  "language_info": {
   "codemirror_mode": {
    "name": "ipython",
    "version": 3
   },
   "file_extension": ".py",
   "mimetype": "text/x-python",
   "name": "python",
   "nbconvert_exporter": "python",
   "pygments_lexer": "ipython3",
   "version": "3.4.3"
  }
 },
 "nbformat": 4,
 "nbformat_minor": 0
}